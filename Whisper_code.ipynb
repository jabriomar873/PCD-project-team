{
 "cells": [
  {
   "cell_type": "code",
   "execution_count": 27,
   "metadata": {
    "_cell_guid": "b1076dfc-b9ad-4769-8c92-a6c4dae69d19",
    "_uuid": "8f2839f25d086af736a60e9eeb907d3b93b6e0e5",
    "execution": {
     "iopub.execute_input": "2025-04-25T23:48:30.530221Z",
     "iopub.status.busy": "2025-04-25T23:48:30.529654Z",
     "iopub.status.idle": "2025-04-25T23:48:34.045273Z",
     "shell.execute_reply": "2025-04-25T23:48:34.044377Z",
     "shell.execute_reply.started": "2025-04-25T23:48:30.530199Z"
    },
    "trusted": true
   },
   "outputs": [
    {
     "name": "stdout",
     "output_type": "stream",
     "text": [
      "Requirement already satisfied: transformers in /usr/local/lib/python3.11/dist-packages (4.51.3)\n",
      "Requirement already satisfied: filelock in /usr/local/lib/python3.11/dist-packages (from transformers) (3.18.0)\n",
      "Requirement already satisfied: huggingface-hub<1.0,>=0.30.0 in /usr/local/lib/python3.11/dist-packages (from transformers) (0.30.2)\n",
      "Requirement already satisfied: numpy>=1.17 in /usr/local/lib/python3.11/dist-packages (from transformers) (1.26.4)\n",
      "Requirement already satisfied: packaging>=20.0 in /usr/local/lib/python3.11/dist-packages (from transformers) (24.2)\n",
      "Requirement already satisfied: pyyaml>=5.1 in /usr/local/lib/python3.11/dist-packages (from transformers) (6.0.2)\n",
      "Requirement already satisfied: regex!=2019.12.17 in /usr/local/lib/python3.11/dist-packages (from transformers) (2024.11.6)\n",
      "Requirement already satisfied: requests in /usr/local/lib/python3.11/dist-packages (from transformers) (2.32.3)\n",
      "Requirement already satisfied: tokenizers<0.22,>=0.21 in /usr/local/lib/python3.11/dist-packages (from transformers) (0.21.0)\n",
      "Requirement already satisfied: safetensors>=0.4.3 in /usr/local/lib/python3.11/dist-packages (from transformers) (0.5.2)\n",
      "Requirement already satisfied: tqdm>=4.27 in /usr/local/lib/python3.11/dist-packages (from transformers) (4.67.1)\n",
      "Requirement already satisfied: fsspec>=2023.5.0 in /usr/local/lib/python3.11/dist-packages (from huggingface-hub<1.0,>=0.30.0->transformers) (2025.3.2)\n",
      "Requirement already satisfied: typing-extensions>=3.7.4.3 in /usr/local/lib/python3.11/dist-packages (from huggingface-hub<1.0,>=0.30.0->transformers) (4.13.1)\n",
      "Requirement already satisfied: mkl_fft in /usr/local/lib/python3.11/dist-packages (from numpy>=1.17->transformers) (1.3.8)\n",
      "Requirement already satisfied: mkl_random in /usr/local/lib/python3.11/dist-packages (from numpy>=1.17->transformers) (1.2.4)\n",
      "Requirement already satisfied: mkl_umath in /usr/local/lib/python3.11/dist-packages (from numpy>=1.17->transformers) (0.1.1)\n",
      "Requirement already satisfied: mkl in /usr/local/lib/python3.11/dist-packages (from numpy>=1.17->transformers) (2025.1.0)\n",
      "Requirement already satisfied: tbb4py in /usr/local/lib/python3.11/dist-packages (from numpy>=1.17->transformers) (2022.1.0)\n",
      "Requirement already satisfied: mkl-service in /usr/local/lib/python3.11/dist-packages (from numpy>=1.17->transformers) (2.4.1)\n",
      "Requirement already satisfied: charset-normalizer<4,>=2 in /usr/local/lib/python3.11/dist-packages (from requests->transformers) (3.4.1)\n",
      "Requirement already satisfied: idna<4,>=2.5 in /usr/local/lib/python3.11/dist-packages (from requests->transformers) (3.10)\n",
      "Requirement already satisfied: urllib3<3,>=1.21.1 in /usr/local/lib/python3.11/dist-packages (from requests->transformers) (2.3.0)\n",
      "Requirement already satisfied: certifi>=2017.4.17 in /usr/local/lib/python3.11/dist-packages (from requests->transformers) (2025.1.31)\n",
      "Requirement already satisfied: intel-openmp<2026,>=2024 in /usr/local/lib/python3.11/dist-packages (from mkl->numpy>=1.17->transformers) (2024.2.0)\n",
      "Requirement already satisfied: tbb==2022.* in /usr/local/lib/python3.11/dist-packages (from mkl->numpy>=1.17->transformers) (2022.1.0)\n",
      "Requirement already satisfied: tcmlib==1.* in /usr/local/lib/python3.11/dist-packages (from tbb==2022.*->mkl->numpy>=1.17->transformers) (1.2.0)\n",
      "Requirement already satisfied: intel-cmplr-lib-rt in /usr/local/lib/python3.11/dist-packages (from mkl_umath->numpy>=1.17->transformers) (2024.2.0)\n",
      "Requirement already satisfied: intel-cmplr-lib-ur==2024.2.0 in /usr/local/lib/python3.11/dist-packages (from intel-openmp<2026,>=2024->mkl->numpy>=1.17->transformers) (2024.2.0)\n"
     ]
    }
   ],
   "source": [
    "!pip install -U transformers"
   ]
  },
  {
   "cell_type": "code",
   "execution_count": null,
   "metadata": {
    "execution": {
     "iopub.execute_input": "2025-04-25T23:48:34.047337Z",
     "iopub.status.busy": "2025-04-25T23:48:34.047035Z",
     "iopub.status.idle": "2025-04-25T23:48:34.053542Z",
     "shell.execute_reply": "2025-04-25T23:48:34.052758Z",
     "shell.execute_reply.started": "2025-04-25T23:48:34.047308Z"
    },
    "trusted": true
   },
   "outputs": [],
   "source": [
    "# train_whisper_metrics_colab.py\n",
    "# -*- coding: utf-8 -*-\n",
    "\"\"\"\n",
    "Fine-tune OpenAI Whisper on LibriSpeech with Gaussian noise augmentation,\n",
    "and report Training/Validation Loss, WER and CER each epoch.\n",
    "\"\"\""
   ]
  },
  {
   "cell_type": "code",
   "execution_count": null,
   "metadata": {},
   "outputs": [],
   "source": [
    "\n",
    "import os\n",
    "import torch\n",
    "import torch.nn as nn\n",
    "import torchaudio\n",
    "from torch.utils.data import DataLoader\n",
    "from transformers import (\n",
    "    WhisperProcessor,\n",
    "    WhisperForConditionalGeneration,\n",
    "    Seq2SeqTrainingArguments,\n",
    "    Seq2SeqTrainer,\n",
    "    TrainerCallback,\n",
    ")"
   ]
  },
  {
   "cell_type": "code",
   "execution_count": 29,
   "metadata": {
    "execution": {
     "iopub.execute_input": "2025-04-25T23:48:34.054602Z",
     "iopub.status.busy": "2025-04-25T23:48:34.054360Z",
     "iopub.status.idle": "2025-04-25T23:48:34.069597Z",
     "shell.execute_reply": "2025-04-25T23:48:34.068855Z",
     "shell.execute_reply.started": "2025-04-25T23:48:34.054580Z"
    },
    "trusted": true
   },
   "outputs": [],
   "source": [
    "# -------------------- 1) Configuration --------------------\n",
    "MODEL_NAME         = \"openai/whisper-small\"\n",
    "DATA_DIR           = \"./data\"\n",
    "OUTPUT_DIR         = \"./whisper_finetuned\"\n",
    "BATCH_SIZE         = 4\n",
    "NUM_EPOCHS         = 1\n",
    "LEARNING_RATE      = 3e-5\n",
    "MAX_TARGET_LENGTH  = 128\n",
    "SAMPLE_RATE        = 16000\n",
    "\n",
    "os.makedirs(DATA_DIR, exist_ok=True)\n",
    "os.makedirs(OUTPUT_DIR, exist_ok=True)"
   ]
  },
  {
   "cell_type": "code",
   "execution_count": 30,
   "metadata": {
    "execution": {
     "iopub.execute_input": "2025-04-25T23:48:34.072512Z",
     "iopub.status.busy": "2025-04-25T23:48:34.071280Z",
     "iopub.status.idle": "2025-04-25T23:48:34.083816Z",
     "shell.execute_reply": "2025-04-25T23:48:34.082997Z",
     "shell.execute_reply.started": "2025-04-25T23:48:34.072494Z"
    },
    "trusted": true
   },
   "outputs": [],
   "source": [
    "# -------------------- 2) Noise Augmentation --------------------\n",
    "class AddGaussianNoise(nn.Module):\n",
    "    def __init__(self, noise_level=0.01):\n",
    "        super().__init__()\n",
    "        self.noise_level = noise_level\n",
    "    def forward(self, waveform):\n",
    "        if self.training:\n",
    "            return waveform + torch.randn_like(waveform) * self.noise_level\n",
    "        return waveform\n",
    "\n",
    "audio_augment = AddGaussianNoise(noise_level=0.01)"
   ]
  },
  {
   "cell_type": "code",
   "execution_count": 31,
   "metadata": {
    "execution": {
     "iopub.execute_input": "2025-04-25T23:48:34.085128Z",
     "iopub.status.busy": "2025-04-25T23:48:34.084716Z",
     "iopub.status.idle": "2025-04-25T23:48:35.478637Z",
     "shell.execute_reply": "2025-04-25T23:48:35.478093Z",
     "shell.execute_reply.started": "2025-04-25T23:48:34.085104Z"
    },
    "trusted": true
   },
   "outputs": [],
   "source": [
    "# -------------------- 3) Load Whisper Processor & Model --------------------\n",
    "processor = WhisperProcessor.from_pretrained(MODEL_NAME)\n",
    "model     = WhisperForConditionalGeneration.from_pretrained(MODEL_NAME)"
   ]
  },
  {
   "cell_type": "code",
   "execution_count": 32,
   "metadata": {
    "execution": {
     "iopub.execute_input": "2025-04-25T23:48:35.479567Z",
     "iopub.status.busy": "2025-04-25T23:48:35.479318Z",
     "iopub.status.idle": "2025-04-25T23:48:35.485750Z",
     "shell.execute_reply": "2025-04-25T23:48:35.485187Z",
     "shell.execute_reply.started": "2025-04-25T23:48:35.479544Z"
    },
    "trusted": true
   },
   "outputs": [],
   "source": [
    "# -------------------- 4) Text-/Error-Rate Helpers --------------------\n",
    "def levenshtein_distance(a, b):\n",
    "    m, n = len(a), len(b)\n",
    "    dp = [[0]*(n+1) for _ in range(m+1)]\n",
    "    for i in range(m+1):\n",
    "        for j in range(n+1):\n",
    "            if i == 0:        dp[i][j] = j\n",
    "            elif j == 0:      dp[i][j] = i\n",
    "            else:\n",
    "                cost = 0 if a[i-1] == b[j-1] else 1\n",
    "                dp[i][j] = min(dp[i-1][j] + 1,\n",
    "                               dp[i][j-1] + 1,\n",
    "                               dp[i-1][j-1] + cost)\n",
    "    return dp[m][n]\n",
    "\n",
    "def wer(ref, hyp):\n",
    "    ref_words = ref.split()\n",
    "    hyp_words = hyp.split()\n",
    "    return levenshtein_distance(ref_words, hyp_words) / max(len(ref_words), 1)\n",
    "\n",
    "def cer(ref, hyp):\n",
    "    return levenshtein_distance(ref, hyp) / max(len(ref), 1)\n"
   ]
  },
  {
   "cell_type": "code",
   "execution_count": 33,
   "metadata": {
    "execution": {
     "iopub.execute_input": "2025-04-25T23:48:35.486545Z",
     "iopub.status.busy": "2025-04-25T23:48:35.486370Z",
     "iopub.status.idle": "2025-04-25T23:48:35.506547Z",
     "shell.execute_reply": "2025-04-25T23:48:35.505781Z",
     "shell.execute_reply.started": "2025-04-25T23:48:35.486531Z"
    },
    "trusted": true
   },
   "outputs": [],
   "source": [
    "# -------------------- 5) Custom Callback --------------------\n",
    "class TrainingReporter(TrainerCallback):\n",
    "    def on_evaluate(self, args, state, control, metrics=None, **kwargs):\n",
    "        # Get both training and validation metrics\n",
    "        train_metrics = {}\n",
    "        eval_metrics = metrics.copy() if metrics else {}\n",
    "        \n",
    "        # Find the training metrics for this epoch\n",
    "        for log in reversed(state.log_history):\n",
    "            if 'loss' in log and log.get('epoch', 0) == state.epoch:\n",
    "                train_metrics = log\n",
    "                break\n",
    "\n",
    "        print(f\"\\n=== Epoch {state.epoch} Report ===\")\n",
    "        if train_metrics:\n",
    "            print(f\"Training Loss:   {train_metrics.get('loss', 'N/A'):.4f}\")\n",
    "        if eval_metrics:\n",
    "            print(f\"Validation Loss: {eval_metrics.get('eval_loss', 'N/A'):.4f}\")\n",
    "            print(f\"Validation WER:  {eval_metrics.get('eval_wer', 'N/A'):.4f}\")\n",
    "            print(f\"Validation CER:  {eval_metrics.get('eval_cer', 'N/A'):.4f}\")"
   ]
  },
  {
   "cell_type": "code",
   "execution_count": 34,
   "metadata": {
    "execution": {
     "iopub.execute_input": "2025-04-25T23:48:35.507518Z",
     "iopub.status.busy": "2025-04-25T23:48:35.507306Z",
     "iopub.status.idle": "2025-04-25T23:48:35.521589Z",
     "shell.execute_reply": "2025-04-25T23:48:35.520854Z",
     "shell.execute_reply.started": "2025-04-25T23:48:35.507497Z"
    },
    "trusted": true
   },
   "outputs": [],
   "source": [
    "# -------------------- 6) Data Collation --------------------\n",
    "def preprocess_batch(batch, processor, augment=None):\n",
    "    audio_inputs = []\n",
    "    labels_text = []\n",
    "    \n",
    "    for waveform, sr, transcript, *_ in batch:\n",
    "        # Ensure audio is at least 30 seconds (Whisper's default)\n",
    "        target_length = 30 * SAMPLE_RATE  # 30 seconds\n",
    "        if waveform.shape[1] < target_length:\n",
    "            # Pad with silence if too short\n",
    "            padding = target_length - waveform.shape[1]\n",
    "            waveform = torch.nn.functional.pad(waveform, (0, padding))\n",
    "        elif waveform.shape[1] > target_length:\n",
    "            # Truncate if too long\n",
    "            waveform = waveform[:, :target_length]\n",
    "            \n",
    "        if augment is not None:\n",
    "            waveform = augment(waveform)\n",
    "            \n",
    "        audio_inputs.append(waveform.squeeze(0).numpy())\n",
    "        labels_text.append(transcript.lower())\n",
    "\n",
    "    inputs = processor.feature_extractor(\n",
    "        audio_inputs,\n",
    "        sampling_rate=SAMPLE_RATE,\n",
    "        return_tensors=\"pt\",\n",
    "        padding=True\n",
    "    )\n",
    "    \n",
    "    label_tokens = processor.tokenizer(\n",
    "        labels_text,\n",
    "        max_length=MAX_TARGET_LENGTH,\n",
    "        padding=True,\n",
    "        truncation=True,\n",
    "        return_tensors=\"pt\"\n",
    "    )\n",
    "    \n",
    "    inputs[\"labels\"] = label_tokens.input_ids\n",
    "    return inputs\n",
    "\n",
    "def data_collator(batch):\n",
    "    return preprocess_batch(batch, processor, augment=audio_augment)\n"
   ]
  },
  {
   "cell_type": "code",
   "execution_count": 35,
   "metadata": {
    "execution": {
     "iopub.execute_input": "2025-04-25T23:48:35.522608Z",
     "iopub.status.busy": "2025-04-25T23:48:35.522338Z",
     "iopub.status.idle": "2025-04-25T23:48:35.622813Z",
     "shell.execute_reply": "2025-04-25T23:48:35.622283Z",
     "shell.execute_reply.started": "2025-04-25T23:48:35.522590Z"
    },
    "trusted": true
   },
   "outputs": [],
   "source": [
    "# -------------------- 7) Prepare Datasets --------------------\n",
    "train_dataset = torchaudio.datasets.LIBRISPEECH(\n",
    "    root=DATA_DIR, url=\"train-clean-100\", download=True\n",
    ")\n",
    "eval_dataset  = torchaudio.datasets.LIBRISPEECH(\n",
    "    root=DATA_DIR, url=\"test-clean\", download=True\n",
    ")"
   ]
  },
  {
   "cell_type": "code",
   "execution_count": 36,
   "metadata": {
    "execution": {
     "iopub.execute_input": "2025-04-25T23:48:35.624714Z",
     "iopub.status.busy": "2025-04-25T23:48:35.624512Z",
     "iopub.status.idle": "2025-04-25T23:48:35.629834Z",
     "shell.execute_reply": "2025-04-25T23:48:35.629109Z",
     "shell.execute_reply.started": "2025-04-25T23:48:35.624698Z"
    },
    "trusted": true
   },
   "outputs": [],
   "source": [
    "# -------------------- 8) Metrics Callback --------------------\n",
    "def compute_metrics(pred):\n",
    "    pred_ids  = pred.predictions\n",
    "    label_ids = pred.label_ids.copy()\n",
    "    label_ids[label_ids == -100] = processor.tokenizer.pad_token_id\n",
    "\n",
    "    pred_strs  = processor.batch_decode(pred_ids,  skip_special_tokens=True)\n",
    "    label_strs = processor.batch_decode(label_ids, skip_special_tokens=True)\n",
    "\n",
    "    wers = [wer(r, h) for r, h in zip(label_strs, pred_strs)]\n",
    "    cers = [cer(r, h) for r, h in zip(label_strs, pred_strs)]\n",
    "    return {\"wer\": sum(wers)/len(wers), \"cer\": sum(cers)/len(cers)}\n"
   ]
  },
  {
   "cell_type": "code",
   "execution_count": 37,
   "metadata": {
    "execution": {
     "iopub.execute_input": "2025-04-25T23:48:35.630825Z",
     "iopub.status.busy": "2025-04-25T23:48:35.630580Z",
     "iopub.status.idle": "2025-04-25T23:48:36.095760Z",
     "shell.execute_reply": "2025-04-25T23:48:36.095237Z",
     "shell.execute_reply.started": "2025-04-25T23:48:35.630806Z"
    },
    "trusted": true
   },
   "outputs": [
    {
     "name": "stderr",
     "output_type": "stream",
     "text": [
      "/tmp/ipykernel_31/3596274459.py:19: FutureWarning: `tokenizer` is deprecated and will be removed in version 5.0.0 for `Seq2SeqTrainer.__init__`. Use `processing_class` instead.\n",
      "  trainer = Seq2SeqTrainer(\n"
     ]
    }
   ],
   "source": [
    "# -------------------- 9) Training Setup --------------------\n",
    "training_args = Seq2SeqTrainingArguments(\n",
    "    output_dir=OUTPUT_DIR,\n",
    "    per_device_train_batch_size=BATCH_SIZE,\n",
    "    per_device_eval_batch_size=BATCH_SIZE,\n",
    "    eval_strategy=\"epoch\",\n",
    "    save_strategy=\"epoch\",\n",
    "    learning_rate=LEARNING_RATE,\n",
    "    num_train_epochs=NUM_EPOCHS,\n",
    "    predict_with_generate=True,\n",
    "    fp16=torch.cuda.is_available(),\n",
    "    logging_steps=50,\n",
    "    report_to=\"none\",  # Disable default logging to use our custom reports\n",
    "    load_best_model_at_end=True,\n",
    "    metric_for_best_model=\"wer\",\n",
    "    greater_is_better=False,\n",
    ")\n",
    "\n",
    "trainer = Seq2SeqTrainer(\n",
    "    model=model,\n",
    "    args=training_args,\n",
    "    train_dataset=train_dataset,\n",
    "    eval_dataset=eval_dataset,\n",
    "    data_collator=data_collator,\n",
    "    tokenizer=processor.tokenizer,\n",
    "    compute_metrics=compute_metrics,\n",
    "    callbacks=[TrainingReporter()],  # Add our custom callback\n",
    ")\n"
   ]
  },
  {
   "cell_type": "code",
   "execution_count": 38,
   "metadata": {
    "execution": {
     "iopub.execute_input": "2025-04-25T23:48:36.096572Z",
     "iopub.status.busy": "2025-04-25T23:48:36.096399Z",
     "iopub.status.idle": "2025-04-25T23:48:36.244412Z",
     "shell.execute_reply": "2025-04-25T23:48:36.243888Z",
     "shell.execute_reply.started": "2025-04-25T23:48:36.096559Z"
    },
    "trusted": true
   },
   "outputs": [],
   "source": [
    "import torch\n",
    "torch.cuda.empty_cache()"
   ]
  },
  {
   "cell_type": "code",
   "execution_count": null,
   "metadata": {
    "execution": {
     "iopub.execute_input": "2025-04-25T23:48:36.245269Z",
     "iopub.status.busy": "2025-04-25T23:48:36.245071Z"
    },
    "trusted": true
   },
   "outputs": [
    {
     "name": "stdout",
     "output_type": "stream",
     "text": [
      "=== Starting Training ===\n"
     ]
    },
    {
     "name": "stderr",
     "output_type": "stream",
     "text": [
      "/usr/local/lib/python3.11/dist-packages/torch/nn/parallel/_functions.py:71: UserWarning: Was asked to gather along dimension 0, but all input tensors were scalars; will instead unsqueeze and return a vector.\n",
      "  warnings.warn(\n"
     ]
    },
    {
     "data": {
      "text/html": [
       "\n",
       "    <div>\n",
       "      \n",
       "      <progress value='140' max='3568' style='width:300px; height:20px; vertical-align: middle;'></progress>\n",
       "      [ 140/3568 05:20 < 2:12:33, 0.43 it/s, Epoch 0.04/1]\n",
       "    </div>\n",
       "    <table border=\"1\" class=\"dataframe\">\n",
       "  <thead>\n",
       " <tr style=\"text-align: left;\">\n",
       "      <th>Epoch</th>\n",
       "      <th>Training Loss</th>\n",
       "      <th>Validation Loss</th>\n",
       "    </tr>\n",
       "  </thead>\n",
       "  <tbody>\n",
       "  </tbody>\n",
       "</table><p>"
      ],
      "text/plain": [
       "<IPython.core.display.HTML object>"
      ]
     },
     "metadata": {},
     "output_type": "display_data"
    }
   ],
   "source": [
    "# -------------------- 10) Execute Training --------------------\n",
    "print(\"=== Starting Training ===\")\n",
    "trainer.train()\n",
    "\n",
    "print(\"\\n=== Final Evaluation ===\")\n",
    "final_metrics = trainer.evaluate()\n",
    "print(f\"Final Validation Loss: {final_metrics['eval_loss']:.4f}\")\n",
    "print(f\"Final Validation WER:  {final_metrics['eval_wer']:.4f}\")\n",
    "print(f\"Final Validation CER:  {final_metrics['eval_cer']:.4f}\")"
   ]
  },
  {
   "cell_type": "code",
   "execution_count": null,
   "metadata": {
    "trusted": true
   },
   "outputs": [],
   "source": [
    "# -------------------- 11) Sample Inference --------------------\n",
    "sample = eval_dataset[0]\n",
    "wave, sr, _, *_ = sample\n",
    "wave = audio_augment(wave)\n",
    "inputs = processor.feature_extractor(\n",
    "    wave.squeeze(0).numpy(),\n",
    "    sampling_rate=SAMPLE_RATE,\n",
    "    return_tensors=\"pt\",\n",
    "    padding=True\n",
    ").to(model.device)\n",
    "\n",
    "generated_ids = model.generate(\n",
    "    inputs.input_features,\n",
    "    max_length=MAX_TARGET_LENGTH,\n",
    "    num_beams=5,\n",
    "    no_repeat_ngram_size=2\n",
    ")\n",
    "print(\"\\nSample Transcription:\", \n",
    "      processor.batch_decode(generated_ids, skip_special_tokens=True)[0])"
   ]
  }
 ],
 "metadata": {
  "kaggle": {
   "accelerator": "nvidiaTeslaT4",
   "dataSources": [],
   "dockerImageVersionId": 31011,
   "isGpuEnabled": true,
   "isInternetEnabled": true,
   "language": "python",
   "sourceType": "notebook"
  },
  "kernelspec": {
   "display_name": "Python 3",
   "language": "python",
   "name": "python3"
  },
  "language_info": {
   "codemirror_mode": {
    "name": "ipython",
    "version": 3
   },
   "file_extension": ".py",
   "mimetype": "text/x-python",
   "name": "python",
   "nbconvert_exporter": "python",
   "pygments_lexer": "ipython3",
   "version": "3.11.11"
  }
 },
 "nbformat": 4,
 "nbformat_minor": 4
}
